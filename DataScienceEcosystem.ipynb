{
 "cells": [
  {
   "cell_type": "markdown",
   "id": "e078070e-fa78-4bf2-b11f-153014260956",
   "metadata": {},
   "source": [
    "# Data Science Tools and Ecosystem"
   ]
  },
  {
   "cell_type": "markdown",
   "id": "4f9adf86-c0ac-4197-ae6d-50b87b9b8ef3",
   "metadata": {},
   "source": [
    "In this notebook, Data Science Tools and Ecosystem are summarized.\n"
   ]
  },
  {
   "cell_type": "markdown",
   "id": "37f0366a-62fb-4b92-823b-0ed06f2c8689",
   "metadata": {},
   "source": [
    "**Objectives:**\n",
    "\n",
    "- List popular languages for Data Science\n",
    "- List tools for data science\n",
    "- List libraries for Data Science"
   ]
  },
  {
   "cell_type": "markdown",
   "id": "140feaee-ebd5-497a-8254-5d8699d71a92",
   "metadata": {
    "tags": []
   },
   "source": [
    "Some of the popular languages that Data Scientists use are:\n",
    "    \n",
    "    1.Python\n",
    "    2.R\n",
    "    3.SQL"
   ]
  },
  {
   "cell_type": "markdown",
   "id": "ecfddc9f-0c44-4bf2-afe6-3a1396bff8d8",
   "metadata": {},
   "source": [
    "Some of the commonly used libraries used by Data Scientists include:\n",
    "\n",
    "    1.ggplot\n",
    "    2.TensorFlow\n",
    "    3.NumPy"
   ]
  },
  {
   "cell_type": "markdown",
   "id": "e5fe5526-4538-423d-8027-970264eb6edf",
   "metadata": {
    "tags": []
   },
   "source": [
    "A few Data Science Tools are:\n",
    "    \n",
    "| Data Science Tools |\n",
    "|:--------:|\n",
    "|  Jupiter notebook   |\n",
    "|  IBM Watson Studio    |\n",
    "|  Apache Spark   |"
   ]
  },
  {
   "cell_type": "markdown",
   "id": "06fc0ea2-dd87-49d9-8aed-2cacfa3e32e0",
   "metadata": {},
   "source": [
    "### Below are a few examples of evaluating arithmetic expressions in Python.\n"
   ]
  },
  {
   "cell_type": "code",
   "execution_count": 6,
   "id": "e3121e86-c2ec-409c-948d-e7d71a678add",
   "metadata": {
    "tags": []
   },
   "outputs": [
    {
     "data": {
      "text/plain": [
       "17"
      ]
     },
     "execution_count": 6,
     "metadata": {},
     "output_type": "execute_result"
    }
   ],
   "source": [
    "#This a simple arithmetic expression to mutiply then add integers\n",
    "(3*4)+5"
   ]
  },
  {
   "cell_type": "code",
   "execution_count": 9,
   "id": "6b07cb68-bf79-4099-aeef-ee47e6ad07e7",
   "metadata": {
    "tags": []
   },
   "outputs": [
    {
     "name": "stdout",
     "output_type": "stream",
     "text": [
      "200 minutes in hours will be: 3.33\n"
     ]
    }
   ],
   "source": [
    "#This will convert 200 minutes to hours by diving by 60\n",
    "x = 200/60\n",
    "print(f\"200 minutes in hours will be: {x:.2f}\")"
   ]
  },
  {
   "cell_type": "markdown",
   "id": "e4416d79-7bf0-4e67-bb5f-c7d4a2f6ec77",
   "metadata": {},
   "source": [
    "## Author:\n",
    "Ismail Elhoumam"
   ]
  },
  {
   "cell_type": "code",
   "execution_count": null,
   "id": "c26a3970-da4c-4bc6-8ee3-2e54771d5e51",
   "metadata": {},
   "outputs": [],
   "source": []
  }
 ],
 "metadata": {
  "kernelspec": {
   "display_name": "Python",
   "language": "python",
   "name": "conda-env-python-py"
  },
  "language_info": {
   "codemirror_mode": {
    "name": "ipython",
    "version": 3
   },
   "file_extension": ".py",
   "mimetype": "text/x-python",
   "name": "python",
   "nbconvert_exporter": "python",
   "pygments_lexer": "ipython3",
   "version": "3.7.12"
  }
 },
 "nbformat": 4,
 "nbformat_minor": 5
}
